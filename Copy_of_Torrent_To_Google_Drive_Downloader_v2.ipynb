{
  "nbformat": 4,
  "nbformat_minor": 0,
  "metadata": {
    "colab": {
      "name": "Copy of Torrent To Google Drive Downloader v2",
      "version": "0.3.2",
      "provenance": [],
      "collapsed_sections": [],
      "include_colab_link": true
    },
    "kernelspec": {
      "name": "python3",
      "display_name": "Python 3"
    }
  },
  "cells": [
    {
      "cell_type": "markdown",
      "metadata": {
        "id": "view-in-github",
        "colab_type": "text"
      },
      "source": [
        "<a href=\"https://colab.research.google.com/github/tuncozturk/learn-to-program/blob/master/Copy_of_Torrent_To_Google_Drive_Downloader_v2.ipynb\" target=\"_parent\"><img src=\"https://colab.research.google.com/assets/colab-badge.svg\" alt=\"Open In Colab\"/></a>"
      ]
    },
    {
      "cell_type": "markdown",
      "metadata": {
        "id": "aQuWDmfm9YOi",
        "colab_type": "text"
      },
      "source": [
        "# Torrent To Google Drive Downloader v2"
      ]
    },
    {
      "cell_type": "markdown",
      "metadata": {
        "id": "Uf90U73y9YOj",
        "colab_type": "text"
      },
      "source": [
        "### Mount Google Drive\n",
        "To stream files we need to mount Google Drive."
      ]
    },
    {
      "cell_type": "code",
      "metadata": {
        "colab_type": "code",
        "id": "oWM9l2fvtuvO",
        "outputId": "c6239492-4600-40ba-9bf0-d1b3d07c6ba3",
        "colab": {
          "base_uri": "https://localhost:8080/",
          "height": 122
        }
      },
      "source": [
        "from google.colab import drive\n",
        "drive.mount('/content/drive')"
      ],
      "execution_count": 0,
      "outputs": [
        {
          "output_type": "stream",
          "text": [
            "Go to this URL in a browser: https://accounts.google.com/o/oauth2/auth?client_id=947318989803-6bn6qk8qdgf4n4g3pfee6491hc0brc4i.apps.googleusercontent.com&redirect_uri=urn%3Aietf%3Awg%3Aoauth%3A2.0%3Aoob&scope=email%20https%3A%2F%2Fwww.googleapis.com%2Fauth%2Fdocs.test%20https%3A%2F%2Fwww.googleapis.com%2Fauth%2Fdrive%20https%3A%2F%2Fwww.googleapis.com%2Fauth%2Fdrive.photos.readonly%20https%3A%2F%2Fwww.googleapis.com%2Fauth%2Fpeopleapi.readonly&response_type=code\n",
            "\n",
            "Enter your authorization code:\n",
            "··········\n",
            "Mounted at /content/drive\n"
          ],
          "name": "stdout"
        }
      ]
    },
    {
      "cell_type": "markdown",
      "metadata": {
        "id": "FexiyATtNwTG",
        "colab_type": "text"
      },
      "source": [
        "###Dependency\n",
        "https://www.libtorrent.org/"
      ]
    },
    {
      "cell_type": "code",
      "metadata": {
        "colab_type": "code",
        "id": "m6hF0emftx4h",
        "outputId": "72ce1d01-8dd8-4523-ed67-cdc41ac745d6",
        "colab": {
          "base_uri": "https://localhost:8080/",
          "height": 493
        }
      },
      "source": [
        "!apt install python3-libtorrent"
      ],
      "execution_count": 0,
      "outputs": [
        {
          "output_type": "stream",
          "text": [
            "Reading package lists... Done\n",
            "Building dependency tree       \n",
            "Reading state information... Done\n",
            "The following package was automatically installed and is no longer required:\n",
            "  libnvidia-common-410\n",
            "Use 'apt autoremove' to remove it.\n",
            "The following additional packages will be installed:\n",
            "  libtorrent-rasterbar9\n",
            "Suggested packages:\n",
            "  libtorrent-rasterbar-dbg\n",
            "The following NEW packages will be installed:\n",
            "  libtorrent-rasterbar9 python3-libtorrent\n",
            "0 upgraded, 2 newly installed, 0 to remove and 4 not upgraded.\n",
            "Need to get 1,569 kB of archives.\n",
            "After this operation, 5,718 kB of additional disk space will be used.\n",
            "Get:1 http://archive.ubuntu.com/ubuntu bionic/universe amd64 libtorrent-rasterbar9 amd64 1.1.5-1build1 [1,258 kB]\n",
            "Get:2 http://archive.ubuntu.com/ubuntu bionic/universe amd64 python3-libtorrent amd64 1.1.5-1build1 [310 kB]\n",
            "Fetched 1,569 kB in 1s (1,649 kB/s)\n",
            "Selecting previously unselected package libtorrent-rasterbar9.\n",
            "(Reading database ... 130963 files and directories currently installed.)\n",
            "Preparing to unpack .../libtorrent-rasterbar9_1.1.5-1build1_amd64.deb ...\n",
            "Unpacking libtorrent-rasterbar9 (1.1.5-1build1) ...\n",
            "Selecting previously unselected package python3-libtorrent.\n",
            "Preparing to unpack .../python3-libtorrent_1.1.5-1build1_amd64.deb ...\n",
            "Unpacking python3-libtorrent (1.1.5-1build1) ...\n",
            "Setting up libtorrent-rasterbar9 (1.1.5-1build1) ...\n",
            "Setting up python3-libtorrent (1.1.5-1build1) ...\n",
            "Processing triggers for libc-bin (2.27-3ubuntu1) ...\n"
          ],
          "name": "stdout"
        }
      ]
    },
    {
      "cell_type": "markdown",
      "metadata": {
        "id": "tqKcWHZcYRIA",
        "colab_type": "text"
      },
      "source": [
        "### Code to download torrent\n",
        "Variable **link** stores the link string."
      ]
    },
    {
      "cell_type": "code",
      "metadata": {
        "colab_type": "code",
        "outputId": "26d4352b-3767-475c-d1e6-f60dc1924403",
        "id": "b09BxnANO2ep",
        "colab": {
          "base_uri": "https://localhost:8080/",
          "height": 697
        }
      },
      "source": [
        "import libtorrent as lt\n",
        "import time\n",
        "import datetime\n",
        "\n",
        "ses = lt.session()\n",
        "ses.listen_on(6881, 6891)\n",
        "params = {\n",
        "    'save_path': '/content/drive/My Drive/Torrent/',\n",
        "    'storage_mode': lt.storage_mode_t(2),\n",
        "    'paused': False,\n",
        "    'auto_managed': True,\n",
        "    'duplicate_is_error': True}\n",
        "link = \"https://yts.lt/torrent/download/866BDCFA006930A718ADBC21D8CAE1F2C7F9D8B3\" # PASTE TORRENT/MAGNET LINK HERE\n",
        "print(link)\n",
        "\n",
        "handle = lt.add_magnet_uri(ses, link, params)\n",
        "ses.start_dht()\n",
        "\n",
        "begin = time.time()\n",
        "print(datetime.datetime.now())\n",
        "\n",
        "print ('Downloading Metadata...')\n",
        "while (not handle.has_metadata()):\n",
        "    time.sleep(1)\n",
        "print ('Got Metadata, Starting Torrent Download...')\n",
        "\n",
        "print(\"Starting\", handle.name())\n",
        "\n",
        "while (handle.status().state != lt.torrent_status.seeding):\n",
        "    s = handle.status()\n",
        "    state_str = ['queued', 'checking', 'downloading metadata', \\\n",
        "            'downloading', 'finished', 'seeding', 'allocating']\n",
        "    print ('%.2f%% complete (down: %.1f kb/s up: %.1f kB/s peers: %d) %s ' % \\\n",
        "            (s.progress * 100, s.download_rate / 1000, s.upload_rate / 1000, \\\n",
        "            s.num_peers, state_str[s.state]))\n",
        "    time.sleep(5)\n",
        "\n",
        "end = time.time()\n",
        "print(handle.name(), \"COMPLETE\")\n",
        "\n",
        "print(\"Elapsed Time: \",int((end-begin)//60),\"min :\", int((end-begin)%60), \"sec\")\n",
        "\n",
        "print(datetime.datetime.now())"
      ],
      "execution_count": 0,
      "outputs": [
        {
          "output_type": "stream",
          "text": [
            "https://yts.lt/torrent/download/866BDCFA006930A718ADBC21D8CAE1F2C7F9D8B3\n",
            "2019-07-20 07:52:00.049299\n",
            "Downloading Metadata...\n",
            "Got Metadata, Starting Torrent Download...\n",
            "Starting Avengers Infinity War (2018) [BluRay] [1080p] [YTS.AM]\n",
            "5.00% complete (down: 0.0 kb/s up: 0.0 kB/s peers: 0) checking \n",
            "48.99% complete (down: 0.0 kb/s up: 0.0 kB/s peers: 0) checking \n",
            "6.47% complete (down: 0.0 kb/s up: 0.0 kB/s peers: 0) downloading \n",
            "6.47% complete (down: 62.2 kb/s up: 3.6 kB/s peers: 10) downloading \n",
            "6.82% complete (down: 1380.3 kb/s up: 47.2 kB/s peers: 19) downloading \n",
            "7.24% complete (down: 2186.8 kb/s up: 73.3 kB/s peers: 24) downloading \n",
            "8.20% complete (down: 4205.5 kb/s up: 144.2 kB/s peers: 36) downloading \n",
            "9.43% complete (down: 5761.2 kb/s up: 203.1 kB/s peers: 54) downloading \n",
            "11.48% complete (down: 9355.2 kb/s up: 346.3 kB/s peers: 70) downloading \n",
            "14.14% complete (down: 12918.5 kb/s up: 499.6 kB/s peers: 86) downloading \n",
            "17.20% complete (down: 15389.9 kb/s up: 605.0 kB/s peers: 99) downloading \n",
            "19.95% complete (down: 14961.0 kb/s up: 600.1 kB/s peers: 104) downloading \n",
            "23.02% complete (down: 15568.6 kb/s up: 645.8 kB/s peers: 105) downloading \n",
            "26.32% complete (down: 16888.8 kb/s up: 706.1 kB/s peers: 110) downloading \n",
            "29.63% complete (down: 17476.3 kb/s up: 749.3 kB/s peers: 118) downloading \n",
            "33.94% complete (down: 21169.2 kb/s up: 928.1 kB/s peers: 120) downloading \n",
            "38.92% complete (down: 25172.2 kb/s up: 1123.2 kB/s peers: 127) downloading \n",
            "43.26% complete (down: 23766.8 kb/s up: 1072.7 kB/s peers: 128) downloading \n",
            "48.11% complete (down: 24591.4 kb/s up: 1095.9 kB/s peers: 133) downloading \n",
            "52.18% complete (down: 22809.7 kb/s up: 1031.8 kB/s peers: 136) downloading \n",
            "56.85% complete (down: 24655.3 kb/s up: 1109.1 kB/s peers: 136) downloading \n",
            "61.26% complete (down: 24243.5 kb/s up: 1081.6 kB/s peers: 140) downloading \n",
            "65.67% complete (down: 23533.5 kb/s up: 1048.8 kB/s peers: 140) downloading \n",
            "69.51% complete (down: 21413.7 kb/s up: 954.0 kB/s peers: 138) downloading \n",
            "73.66% complete (down: 21588.9 kb/s up: 976.7 kB/s peers: 140) downloading \n",
            "78.68% complete (down: 25918.9 kb/s up: 1157.2 kB/s peers: 139) downloading \n",
            "83.40% complete (down: 25865.4 kb/s up: 1161.6 kB/s peers: 145) downloading \n",
            "88.08% complete (down: 25553.1 kb/s up: 1149.1 kB/s peers: 145) downloading \n",
            "93.28% complete (down: 25877.6 kb/s up: 1161.6 kB/s peers: 146) downloading \n",
            "97.63% complete (down: 24413.3 kb/s up: 1085.9 kB/s peers: 148) downloading \n",
            "99.07% complete (down: 13911.2 kb/s up: 642.6 kB/s peers: 148) downloading \n",
            "99.78% complete (down: 7898.9 kb/s up: 358.1 kB/s peers: 142) downloading \n",
            "Avengers Infinity War (2018) [BluRay] [1080p] [YTS.AM] COMPLETE\n",
            "Elapsed Time:  2 min : 44 sec\n",
            "2019-07-20 07:54:44.267213\n"
          ],
          "name": "stdout"
        }
      ]
    }
  ]
}